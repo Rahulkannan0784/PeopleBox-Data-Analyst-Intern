{
  "nbformat": 4,
  "nbformat_minor": 0,
  "metadata": {
    "colab": {
      "provenance": []
    },
    "kernelspec": {
      "name": "python3",
      "display_name": "Python 3"
    },
    "language_info": {
      "name": "python"
    }
  },
  "cells": [
    {
      "cell_type": "code",
      "source": [
        "import pandas as pd\n",
        "\n",
        "# Load the dataset\n",
        "df = pd.read_csv('/content/input.csv')\n",
        "\n",
        "# Calculate Last Compensation and Last Pay Raise Date\n",
        "df['Last Compensation'] = df[['Compensation', 'Compensation 1', 'Compensation 2']].max(axis=1)\n",
        "df['Last Pay Raise Date'] = df[['Compensation 1 date', 'Compensation 2 date']].max(axis=1)\n",
        "\n",
        "# Calculate Variable Pay (example calculation, adjust as needed)\n",
        "df['Variable Pay'] = df['Last Compensation'] * 0.1  # Assuming variable pay is 10% of last compensation\n",
        "\n",
        "# Calculate Tenure in Org\n",
        "df['Tenure in Org'] = pd.to_datetime(df['Date of Exit']) - pd.to_datetime(df['Date of Joining'])\n",
        "\n",
        "# Assuming Performance Rating is based on Tenure in Org (example calculation, adjust as needed)\n",
        "df['Performance Rating'] = pd.cut(df['Tenure in Org'].dt.days, bins=[0, 365, 730, 1095, float('inf')], labels=['Low', 'Medium', 'High', 'Very High'])\n",
        "\n",
        "# Assuming Engagement Score is based on Last Compensation (example calculation, adjust as needed)\n",
        "df['Engagement Score'] = pd.cut(df['Last Compensation'], bins=[0, 50000, 100000, 150000, float('inf')], labels=['Low', 'Medium', 'High', 'Very High'])\n",
        "\n",
        "# Calculate Performance Rating from Review 1 and Review 2\n",
        "df['Performance Rating'] = (df['Review 1'] + df['Review 2']) / 2\n",
        "\n",
        "# Calculate Engagement Score from Engagement 1 and Engagement 2\n",
        "df['Engagement Score'] = (df['Engagement 1'] + df['Engagement 2']) / 2\n",
        "\n",
        "# Assuming Effective Date is Date of Joining and End Date is Date of Exit\n",
        "\n",
        "# Select and reorder columns for the output CSV file\n",
        "output_columns = ['Employee Code', 'Manager Employee Code', 'Last Compensation', 'Compensation', 'Last Pay Raise Date',\n",
        "                   'Variable Pay', 'Tenure in Org', 'Performance Rating', 'Engagement Score', 'Date of Joining', 'Date of Exit']\n",
        "output_df = df[output_columns]\n",
        "\n",
        "# Write to CSV\n",
        "output_df.to_csv('output.csv', index=False)\n"
      ],
      "metadata": {
        "colab": {
          "base_uri": "https://localhost:8080/"
        },
        "id": "mfrPsD17YfVv",
        "outputId": "2fe6127c-09c8-43fc-9344-4d26c021a4dc"
      },
      "execution_count": null,
      "outputs": [
        {
          "output_type": "stream",
          "name": "stderr",
          "text": [
            "<ipython-input-26-278b265e099c>:4: DtypeWarning: Columns (2,3,6,8,10,12,14,16) have mixed types. Specify dtype option on import or set low_memory=False.\n",
            "  df = pd.read_csv('/content/input.csv')\n",
            "<ipython-input-26-278b265e099c>:14: UserWarning: Parsing dates in DD/MM/YYYY format when dayfirst=False (the default) was specified. This may lead to inconsistently parsed dates! Specify a format to ensure consistent parsing.\n",
            "  df['Tenure in Org'] = pd.to_datetime(df['Date of Exit']) - pd.to_datetime(df['Date of Joining'])\n"
          ]
        }
      ]
    },
    {
      "cell_type": "code",
      "source": [],
      "metadata": {
        "id": "VFNBArHAfHYQ"
      },
      "execution_count": null,
      "outputs": []
    }
  ]
}